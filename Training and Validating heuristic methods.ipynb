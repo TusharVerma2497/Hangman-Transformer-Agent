{
 "cells": [
  {
   "cell_type": "code",
   "execution_count": 13,
   "id": "1ecdaf6b",
   "metadata": {},
   "outputs": [
    {
     "name": "stderr",
     "output_type": "stream",
     "text": [
      "100%|████████████████████████████████████████████████████████████| 227300/227300 [00:00<00:00, 1477632.14it/s]\n"
     ]
    }
   ],
   "source": [
    "from torch.utils.data import DataLoader\n",
    "import matplotlib.pyplot as plt\n",
    "from src.dataset import HangmanDataset\n",
    "import numpy as np\n",
    "import pickle\n",
    "import random\n",
    "from tqdm import tqdm\n",
    "\n",
    "\n",
    "vocab =  [chr(i) for i in range(97, 123)] + ['<SOS>', '<MASK>', '<PAD>']\n",
    "vocab_size = len(vocab)\n",
    "stoi = {ch: i for i, ch in enumerate(vocab)}\n",
    "itos = {i: ch for i, ch in enumerate(vocab)}\n",
    "\n",
    "\n",
    "# Set the seed for reproducibility\n",
    "SEED = 42\n",
    "random.seed(SEED)\n",
    "\n",
    "# Read and clean words\n",
    "with open('words_250000_train.txt', 'r') as file:\n",
    "    training_words = [line.strip().lower() for line in file if line.strip().isalpha()]\n",
    "\n",
    "# Group words by their lengths\n",
    "word_dict_by_len = {}\n",
    "for word in tqdm(training_words):\n",
    "    l = len(word)\n",
    "    word_dict_by_len.setdefault(l, []).append(word)"
   ]
  },
  {
   "cell_type": "code",
   "execution_count": 62,
   "id": "7008f0bd",
   "metadata": {},
   "outputs": [],
   "source": [
    "import torch\n",
    "import numpy as np\n",
    "import random\n",
    "\n",
    "def play_random_batch(batch_words, stoi, itos, max_trials=26):\n",
    "    batch_size = len(batch_words)\n",
    "    \n",
    "    word_lengths = [len(w) for w in batch_words]\n",
    "    max_len = max(word_lengths)\n",
    "    vocab = [ch for ch in list(stoi.keys()) if ch not in ['<PAD>', '<SOS>', '<MASK>']]\n",
    "\n",
    "    target_chars = [list(w) for w in batch_words]\n",
    "    revealed = [['<MASK>'] * l for l in word_lengths]\n",
    "\n",
    "    # Metrics\n",
    "    incorrect_guesses = torch.zeros(batch_size, dtype=torch.int32)\n",
    "    trials = torch.zeros(batch_size, dtype=torch.int32)\n",
    "    word_won = torch.zeros(batch_size, dtype=torch.bool)\n",
    "    duplicate_counts = torch.zeros(batch_size, dtype=torch.int32)\n",
    "    guessed_history = [[] for _ in range(batch_size)]\n",
    "\n",
    "    for step in range(max_trials):\n",
    "        for b in range(batch_size):\n",
    "            if word_won[b]:\n",
    "                continue\n",
    "            trials[b] += 1\n",
    "\n",
    "            # Sample a random character not guessed yet\n",
    "            remaining_choices = list(set(vocab) - set(guessed_history[b]))\n",
    "            if not remaining_choices:\n",
    "                continue  # all guessed\n",
    "            pred_char = random.choice(remaining_choices)\n",
    "            guessed_history[b].append(pred_char)\n",
    "\n",
    "            if pred_char in target_chars[b]:\n",
    "                for i, ch in enumerate(target_chars[b]):\n",
    "                    if ch == pred_char:\n",
    "                        revealed[b][i] = pred_char\n",
    "                if revealed[b] == target_chars[b] and incorrect_guesses[b] < 6:\n",
    "                    word_won[b] = True\n",
    "            else:\n",
    "                incorrect_guesses[b] += 1\n",
    "\n",
    "            # Count duplicates (not likely but just in case)\n",
    "            if guessed_history[b].count(pred_char) > 1:\n",
    "                duplicate_counts[b] += 1\n",
    "\n",
    "        if word_won.all():\n",
    "            break\n",
    "\n",
    "    return incorrect_guesses.tolist(), word_won.tolist(), duplicate_counts.tolist()\n",
    "\n"
   ]
  },
  {
   "cell_type": "code",
   "execution_count": 89,
   "id": "68fcfcf0",
   "metadata": {},
   "outputs": [
    {
     "name": "stdout",
     "output_type": "stream",
     "text": [
      "word length of 3\n"
     ]
    },
    {
     "name": "stderr",
     "output_type": "stream",
     "text": [
      "100%|█████████████████████████████████████████████████████████████████████████| 42/42 [00:00<00:00, 73.11it/s]\n"
     ]
    },
    {
     "name": "stdout",
     "output_type": "stream",
     "text": [
      "Random Baseline:\n",
      "  Accuracy: 27/661 = 4.08%\n",
      "  Avg Incorrect Guesses: 22.33\n",
      "word length of 6\n"
     ]
    },
    {
     "name": "stderr",
     "output_type": "stream",
     "text": [
      "100%|███████████████████████████████████████████████████████████████████████| 367/367 [00:04<00:00, 90.38it/s]\n"
     ]
    },
    {
     "name": "stdout",
     "output_type": "stream",
     "text": [
      "Random Baseline:\n",
      "  Accuracy: 38/5863 = 0.65%\n",
      "  Avg Incorrect Guesses: 20.58\n",
      "word length of 4\n"
     ]
    },
    {
     "name": "stderr",
     "output_type": "stream",
     "text": [
      "100%|███████████████████████████████████████████████████████████████████████| 100/100 [00:01<00:00, 82.76it/s]\n"
     ]
    },
    {
     "name": "stdout",
     "output_type": "stream",
     "text": [
      "Random Baseline:\n",
      "  Accuracy: 34/1587 = 2.14%\n",
      "  Avg Incorrect Guesses: 21.87\n",
      "word length of 5\n"
     ]
    },
    {
     "name": "stderr",
     "output_type": "stream",
     "text": [
      "100%|███████████████████████████████████████████████████████████████████████| 212/212 [00:02<00:00, 91.35it/s]\n"
     ]
    },
    {
     "name": "stdout",
     "output_type": "stream",
     "text": [
      "Random Baseline:\n",
      "  Accuracy: 34/3383 = 1.01%\n",
      "  Avg Incorrect Guesses: 21.25\n",
      "word length of 8\n"
     ]
    },
    {
     "name": "stderr",
     "output_type": "stream",
     "text": [
      "100%|███████████████████████████████████████████████████████████████████████| 571/571 [00:06<00:00, 94.88it/s]\n"
     ]
    },
    {
     "name": "stdout",
     "output_type": "stream",
     "text": [
      "Random Baseline:\n",
      "  Accuracy: 31/9136 = 0.34%\n",
      "  Avg Incorrect Guesses: 19.23\n",
      "word length of 7\n"
     ]
    },
    {
     "name": "stderr",
     "output_type": "stream",
     "text": [
      "100%|███████████████████████████████████████████████████████████████████████| 487/487 [00:05<00:00, 90.06it/s]\n"
     ]
    },
    {
     "name": "stdout",
     "output_type": "stream",
     "text": [
      "Random Baseline:\n",
      "  Accuracy: 39/7785 = 0.50%\n",
      "  Avg Incorrect Guesses: 19.86\n",
      "word length of 10\n"
     ]
    },
    {
     "name": "stderr",
     "output_type": "stream",
     "text": [
      "100%|███████████████████████████████████████████████████████████████████████| 506/506 [00:05<00:00, 93.78it/s]\n"
     ]
    },
    {
     "name": "stdout",
     "output_type": "stream",
     "text": [
      "Random Baseline:\n",
      "  Accuracy: 24/8086 = 0.30%\n",
      "  Avg Incorrect Guesses: 17.98\n",
      "word length of 9\n"
     ]
    },
    {
     "name": "stderr",
     "output_type": "stream",
     "text": [
      "100%|███████████████████████████████████████████████████████████████████████| 580/580 [00:05<00:00, 97.85it/s]\n"
     ]
    },
    {
     "name": "stdout",
     "output_type": "stream",
     "text": [
      "Random Baseline:\n",
      "  Accuracy: 20/9272 = 0.22%\n",
      "  Avg Incorrect Guesses: 18.58\n",
      "word length of 11\n"
     ]
    },
    {
     "name": "stderr",
     "output_type": "stream",
     "text": [
      "100%|███████████████████████████████████████████████████████████████████████| 428/428 [00:04<00:00, 95.19it/s]\n"
     ]
    },
    {
     "name": "stdout",
     "output_type": "stream",
     "text": [
      "Random Baseline:\n",
      "  Accuracy: 15/6836 = 0.22%\n",
      "  Avg Incorrect Guesses: 17.43\n",
      "word length of 12\n"
     ]
    },
    {
     "name": "stderr",
     "output_type": "stream",
     "text": [
      "100%|███████████████████████████████████████████████████████████████████████| 341/341 [00:03<00:00, 95.93it/s]\n"
     ]
    },
    {
     "name": "stdout",
     "output_type": "stream",
     "text": [
      "Random Baseline:\n",
      "  Accuracy: 11/5454 = 0.20%\n",
      "  Avg Incorrect Guesses: 16.93\n",
      "word length of 13\n"
     ]
    },
    {
     "name": "stderr",
     "output_type": "stream",
     "text": [
      "100%|███████████████████████████████████████████████████████████████████████| 243/243 [00:02<00:00, 93.51it/s]\n"
     ]
    },
    {
     "name": "stdout",
     "output_type": "stream",
     "text": [
      "Random Baseline:\n",
      "  Accuracy: 6/3887 = 0.15%\n",
      "  Avg Incorrect Guesses: 16.50\n",
      "word length of 15\n"
     ]
    },
    {
     "name": "stderr",
     "output_type": "stream",
     "text": [
      "100%|█████████████████████████████████████████████████████████████████████████| 98/98 [00:01<00:00, 89.61it/s]\n"
     ]
    },
    {
     "name": "stdout",
     "output_type": "stream",
     "text": [
      "Random Baseline:\n",
      "  Accuracy: 6/1564 = 0.38%\n",
      "  Avg Incorrect Guesses: 15.69\n",
      "word length of 14\n"
     ]
    },
    {
     "name": "stderr",
     "output_type": "stream",
     "text": [
      "100%|███████████████████████████████████████████████████████████████████████| 164/164 [00:01<00:00, 92.73it/s]\n"
     ]
    },
    {
     "name": "stdout",
     "output_type": "stream",
     "text": [
      "Random Baseline:\n",
      "  Accuracy: 4/2613 = 0.15%\n",
      "  Avg Incorrect Guesses: 16.11\n",
      "word length of 20\n"
     ]
    },
    {
     "name": "stderr",
     "output_type": "stream",
     "text": [
      "100%|███████████████████████████████████████████████████████████████████████████| 5/5 [00:00<00:00, 32.05it/s]\n"
     ]
    },
    {
     "name": "stdout",
     "output_type": "stream",
     "text": [
      "Random Baseline:\n",
      "  Accuracy: 0/68 = 0.00%\n",
      "  Avg Incorrect Guesses: 13.93\n",
      "word length of 17\n"
     ]
    },
    {
     "name": "stderr",
     "output_type": "stream",
     "text": [
      "100%|█████████████████████████████████████████████████████████████████████████| 34/34 [00:00<00:00, 76.72it/s]\n"
     ]
    },
    {
     "name": "stdout",
     "output_type": "stream",
     "text": [
      "Random Baseline:\n",
      "  Accuracy: 1/533 = 0.19%\n",
      "  Avg Incorrect Guesses: 15.05\n",
      "word length of 16\n"
     ]
    },
    {
     "name": "stderr",
     "output_type": "stream",
     "text": [
      "100%|█████████████████████████████████████████████████████████████████████████| 59/59 [00:00<00:00, 69.19it/s]\n"
     ]
    },
    {
     "name": "stdout",
     "output_type": "stream",
     "text": [
      "Random Baseline:\n",
      "  Accuracy: 2/943 = 0.21%\n",
      "  Avg Incorrect Guesses: 15.43\n",
      "word length of 2\n"
     ]
    },
    {
     "name": "stderr",
     "output_type": "stream",
     "text": [
      "100%|███████████████████████████████████████████████████████████████████████████| 5/5 [00:00<00:00, 25.38it/s]\n"
     ]
    },
    {
     "name": "stdout",
     "output_type": "stream",
     "text": [
      "Random Baseline:\n",
      "  Accuracy: 9/80 = 11.25%\n",
      "  Avg Incorrect Guesses: 21.82\n",
      "word length of 21\n"
     ]
    },
    {
     "name": "stderr",
     "output_type": "stream",
     "text": [
      "100%|███████████████████████████████████████████████████████████████████████████| 2/2 [00:00<00:00, 15.90it/s]\n"
     ]
    },
    {
     "name": "stdout",
     "output_type": "stream",
     "text": [
      "Random Baseline:\n",
      "  Accuracy: 0/30 = 0.00%\n",
      "  Avg Incorrect Guesses: 13.73\n",
      "word length of 18\n"
     ]
    },
    {
     "name": "stderr",
     "output_type": "stream",
     "text": [
      "100%|█████████████████████████████████████████████████████████████████████████| 17/17 [00:00<00:00, 59.29it/s]\n"
     ]
    },
    {
     "name": "stdout",
     "output_type": "stream",
     "text": [
      "Random Baseline:\n",
      "  Accuracy: 0/258 = 0.00%\n",
      "  Avg Incorrect Guesses: 14.72\n",
      "word length of 19\n"
     ]
    },
    {
     "name": "stderr",
     "output_type": "stream",
     "text": [
      "100%|███████████████████████████████████████████████████████████████████████████| 9/9 [00:00<00:00, 44.61it/s]\n"
     ]
    },
    {
     "name": "stdout",
     "output_type": "stream",
     "text": [
      "Random Baseline:\n",
      "  Accuracy: 0/133 = 0.00%\n",
      "  Avg Incorrect Guesses: 14.57\n",
      "word length of 25\n"
     ]
    },
    {
     "name": "stderr",
     "output_type": "stream",
     "text": [
      "100%|███████████████████████████████████████████████████████████████████████████| 1/1 [00:00<00:00,  7.40it/s]\n"
     ]
    },
    {
     "name": "stdout",
     "output_type": "stream",
     "text": [
      "Random Baseline:\n",
      "  Accuracy: 0/1 = 0.00%\n",
      "  Avg Incorrect Guesses: 13.00\n",
      "word length of 22\n"
     ]
    },
    {
     "name": "stderr",
     "output_type": "stream",
     "text": [
      "100%|███████████████████████████████████████████████████████████████████████████| 1/1 [00:00<00:00,  7.73it/s]\n"
     ]
    },
    {
     "name": "stdout",
     "output_type": "stream",
     "text": [
      "Random Baseline:\n",
      "  Accuracy: 0/14 = 0.00%\n",
      "  Avg Incorrect Guesses: 13.14\n",
      "word length of 1\n"
     ]
    },
    {
     "name": "stderr",
     "output_type": "stream",
     "text": [
      "100%|███████████████████████████████████████████████████████████████████████████| 1/1 [00:00<00:00,  9.05it/s]\n"
     ]
    },
    {
     "name": "stdout",
     "output_type": "stream",
     "text": [
      "Random Baseline:\n",
      "  Accuracy: 2/6 = 33.33%\n",
      "  Avg Incorrect Guesses: 17.33\n",
      "word length of 23\n"
     ]
    },
    {
     "name": "stderr",
     "output_type": "stream",
     "text": [
      "100%|███████████████████████████████████████████████████████████████████████████| 1/1 [00:00<00:00,  7.43it/s]\n"
     ]
    },
    {
     "name": "stdout",
     "output_type": "stream",
     "text": [
      "Random Baseline:\n",
      "  Accuracy: 0/5 = 0.00%\n",
      "  Avg Incorrect Guesses: 13.40\n",
      "word length of 29\n"
     ]
    },
    {
     "name": "stderr",
     "output_type": "stream",
     "text": [
      "100%|███████████████████████████████████████████████████████████████████████████| 1/1 [00:00<00:00,  8.04it/s]\n"
     ]
    },
    {
     "name": "stdout",
     "output_type": "stream",
     "text": [
      "Random Baseline:\n",
      "  Accuracy: 0/1 = 0.00%\n",
      "  Avg Incorrect Guesses: 14.00\n",
      "word length of 24\n"
     ]
    },
    {
     "name": "stderr",
     "output_type": "stream",
     "text": [
      "100%|███████████████████████████████████████████████████████████████████████████| 1/1 [00:00<00:00,  7.32it/s]\n"
     ]
    },
    {
     "name": "stdout",
     "output_type": "stream",
     "text": [
      "Random Baseline:\n",
      "  Accuracy: 0/3 = 0.00%\n",
      "  Avg Incorrect Guesses: 12.67\n",
      "word length of 28\n"
     ]
    },
    {
     "name": "stderr",
     "output_type": "stream",
     "text": [
      "100%|███████████████████████████████████████████████████████████████████████████| 1/1 [00:00<00:00,  8.57it/s]\n"
     ]
    },
    {
     "name": "stdout",
     "output_type": "stream",
     "text": [
      "Random Baseline:\n",
      "  Accuracy: 0/1 = 0.00%\n",
      "  Avg Incorrect Guesses: 13.00\n",
      "word length of 27\n"
     ]
    },
    {
     "name": "stderr",
     "output_type": "stream",
     "text": [
      "100%|███████████████████████████████████████████████████████████████████████████| 1/1 [00:00<00:00,  6.84it/s]"
     ]
    },
    {
     "name": "stdout",
     "output_type": "stream",
     "text": [
      "Random Baseline:\n",
      "  Accuracy: 0/1 = 0.00%\n",
      "  Avg Incorrect Guesses: 14.00\n",
      "303\n"
     ]
    },
    {
     "name": "stderr",
     "output_type": "stream",
     "text": [
      "\n"
     ]
    }
   ],
   "source": [
    "# total_wins = 0\n",
    "# for word_length, word_list in word_dict_by_len.items():\n",
    "#     print(f'word length of {word_length}')\n",
    "\n",
    "\n",
    "\n",
    "from tqdm import tqdm\n",
    "result_dict = dict()\n",
    "total_wins = 0\n",
    "for word_length, word_list in word_dict_by_len.items():\n",
    "    print(f'word length of {word_length}')\n",
    "\n",
    "    random.shuffle(word_list)\n",
    "    split_idx = int(0.7 * len(word_list))\n",
    "#     test_dataset = HangmanDataset(word_list, max_word_length=word_length, max_guesses=26)\n",
    "    dataloader = DataLoader(\n",
    "            word_list[split_idx:],\n",
    "            batch_size=16,\n",
    "            num_workers=4,\n",
    "        )\n",
    "    incorrects_all = []\n",
    "    wins = 0\n",
    "    \n",
    "    for batch_words in tqdm(dataloader):  # Replace with your loader\n",
    "        inc, won, dups = play_random_batch(batch_words, stoi, itos)\n",
    "#         print(inc)\n",
    "        incorrects_all.extend(inc)\n",
    "        wins += sum(won)\n",
    "    \n",
    "    result_dict[word_length] = incorrects_all\n",
    "    print(f\"Random Baseline:\")\n",
    "    print(f\"  Accuracy: {wins}/{len(incorrects_all)} = {wins/len(incorrects_all):.2%}\")\n",
    "    print(f\"  Avg Incorrect Guesses: {np.mean(incorrects_all):.2f}\")\n",
    "    total_wins += wins\n",
    "\n",
    "print(total_wins)"
   ]
  },
  {
   "cell_type": "code",
   "execution_count": 74,
   "id": "2f9a0d4e",
   "metadata": {},
   "outputs": [
    {
     "data": {
      "text/plain": [
       "0.42959357222450295"
      ]
     },
     "execution_count": 74,
     "metadata": {},
     "output_type": "execute_result"
    }
   ],
   "source": [
    "293/68204"
   ]
  },
  {
   "cell_type": "code",
   "execution_count": 90,
   "id": "febb76ea",
   "metadata": {},
   "outputs": [
    {
     "name": "stdout",
     "output_type": "stream",
     "text": [
      "303\n"
     ]
    }
   ],
   "source": [
    "print(total_wins)\n",
    "with open(f'randomAgentResults.pkl', 'wb') as f:\n",
    "    pickle.dump(result_dict, f)"
   ]
  },
  {
   "cell_type": "markdown",
   "id": "e7176b3d",
   "metadata": {},
   "source": [
    "With Random won only 0.4% of the time"
   ]
  },
  {
   "cell_type": "code",
   "execution_count": null,
   "id": "cdbc777d",
   "metadata": {},
   "outputs": [],
   "source": []
  },
  {
   "cell_type": "code",
   "execution_count": null,
   "id": "bcf3c84a",
   "metadata": {},
   "outputs": [],
   "source": []
  },
  {
   "cell_type": "code",
   "execution_count": 70,
   "id": "15204f0b",
   "metadata": {},
   "outputs": [],
   "source": [
    "\n",
    "\n",
    "import torch\n",
    "import numpy as np\n",
    "import random\n",
    "from collections import Counter\n",
    "\n",
    "\n",
    "subsampled_words_dict = dict()\n",
    "\n",
    "for length, word_list in word_dict_by_len.items():\n",
    "    random.shuffle(word_list)\n",
    "    split_idx = int(0.7 * len(word_list))\n",
    "    subsampled_words_dict[length] = word_list[:split_idx]\n",
    "\n",
    "    \n",
    "def play_frequency_informed_batch(batch_words, stoi, itos, max_trials=26, min_pool_size=2):\n",
    "    batch_size = len(batch_words)\n",
    "    word_length = len(batch_words[0])\n",
    "    assert all(len(w) == word_length for w in batch_words)\n",
    "\n",
    "    vocab = [ch for ch in stoi if ch not in ['<PAD>', '<SOS>', '<MASK>']]\n",
    "    target_chars = [list(w) for w in batch_words]\n",
    "    revealed = [['<MASK>'] * word_length for _ in range(batch_size)]\n",
    "\n",
    "    incorrect_guesses = torch.zeros(batch_size, dtype=torch.int32)\n",
    "    trials = torch.zeros(batch_size, dtype=torch.int32)\n",
    "    word_won = torch.zeros(batch_size, dtype=torch.bool)\n",
    "    duplicate_counts = torch.zeros(batch_size, dtype=torch.int32)\n",
    "    guessed_history = [[] for _ in range(batch_size)]\n",
    "\n",
    "    subsampled_words = subsampled_words_dict[word_length]\n",
    "\n",
    "    for step in range(max_trials):\n",
    "        for b in range(batch_size):\n",
    "            if word_won[b]:\n",
    "                continue\n",
    "\n",
    "            # 1. Build masked pattern\n",
    "            pattern = revealed[b]\n",
    "\n",
    "            # 2. Filter subsample to only those matching current revealed pattern\n",
    "            candidate_pool = []\n",
    "            for w in subsampled_words:\n",
    "                match = True\n",
    "                for i in range(word_length):\n",
    "                    if pattern[i] != '<MASK>' and w[i] != pattern[i]:\n",
    "                        match = False\n",
    "                        break\n",
    "                if match:\n",
    "                    candidate_pool.append(w)\n",
    "\n",
    "            # 3. Count frequency of unguessed characters at masked positions\n",
    "            guessed = guessed_history[b]\n",
    "            remaining_choices = list(set(vocab) - set(guessed))\n",
    "            if not remaining_choices:\n",
    "                continue  # skip if everything already guessed\n",
    "\n",
    "            if len(candidate_pool) < min_pool_size:\n",
    "                pred_char = random.choice(remaining_choices)\n",
    "            else:\n",
    "                letter_freq = Counter()\n",
    "                for w in candidate_pool:\n",
    "                    for i, ch in enumerate(w):\n",
    "                        if pattern[i] == '<MASK>' and ch not in guessed:\n",
    "                            letter_freq[ch] += 1\n",
    "\n",
    "                if not letter_freq:\n",
    "                    pred_char = random.choice(remaining_choices)\n",
    "                else:\n",
    "                    pred_char = letter_freq.most_common(1)[0][0]\n",
    "\n",
    "            # 4. Update game state\n",
    "            trials[b] += 1\n",
    "            if pred_char in guessed:\n",
    "                duplicate_counts[b] += 1\n",
    "            guessed_history[b].append(pred_char)\n",
    "\n",
    "            if pred_char in target_chars[b]:\n",
    "                for i, ch in enumerate(target_chars[b]):\n",
    "                    if ch == pred_char:\n",
    "                        revealed[b][i] = pred_char\n",
    "                if revealed[b] == target_chars[b] and incorrect_guesses[b] < 6:\n",
    "                    word_won[b] = True\n",
    "            else:\n",
    "                incorrect_guesses[b] += 1\n",
    "\n",
    "        if word_won.all():\n",
    "            break\n",
    "\n",
    "    return incorrect_guesses.tolist(), word_won.tolist(), duplicate_counts.tolist()"
   ]
  },
  {
   "cell_type": "code",
   "execution_count": 93,
   "id": "ac9be62a",
   "metadata": {},
   "outputs": [
    {
     "name": "stdout",
     "output_type": "stream",
     "text": [
      "word length of 3\n"
     ]
    },
    {
     "name": "stderr",
     "output_type": "stream",
     "text": [
      "100%|█████████████████████████████████████████████████████████████████████████| 42/42 [00:11<00:00,  3.62it/s]\n"
     ]
    },
    {
     "name": "stdout",
     "output_type": "stream",
     "text": [
      "Random Baseline:\n",
      "  Accuracy: 152/661 = 23.00%\n",
      "  Avg Incorrect Guesses: 18.75\n",
      "  Avg Duplicates: 0.00\n",
      "word length of 6\n"
     ]
    },
    {
     "name": "stderr",
     "output_type": "stream",
     "text": [
      "100%|███████████████████████████████████████████████████████████████████████| 367/367 [16:00<00:00,  2.62s/it]\n"
     ]
    },
    {
     "name": "stdout",
     "output_type": "stream",
     "text": [
      "Random Baseline:\n",
      "  Accuracy: 641/5863 = 10.93%\n",
      "  Avg Incorrect Guesses: 18.84\n",
      "  Avg Duplicates: 0.00\n",
      "word length of 4\n"
     ]
    },
    {
     "name": "stderr",
     "output_type": "stream",
     "text": [
      "100%|███████████████████████████████████████████████████████████████████████| 100/100 [01:03<00:00,  1.59it/s]\n"
     ]
    },
    {
     "name": "stdout",
     "output_type": "stream",
     "text": [
      "Random Baseline:\n",
      "  Accuracy: 352/1587 = 22.18%\n",
      "  Avg Incorrect Guesses: 18.19\n",
      "  Avg Duplicates: 0.00\n",
      "word length of 5\n"
     ]
    },
    {
     "name": "stderr",
     "output_type": "stream",
     "text": [
      "100%|███████████████████████████████████████████████████████████████████████| 212/212 [05:06<00:00,  1.45s/it]\n"
     ]
    },
    {
     "name": "stdout",
     "output_type": "stream",
     "text": [
      "Random Baseline:\n",
      "  Accuracy: 496/3383 = 14.66%\n",
      "  Avg Incorrect Guesses: 18.86\n",
      "  Avg Duplicates: 0.00\n",
      "word length of 8\n"
     ]
    },
    {
     "name": "stderr",
     "output_type": "stream",
     "text": [
      "100%|███████████████████████████████████████████████████████████████████████| 571/571 [41:12<00:00,  4.33s/it]\n"
     ]
    },
    {
     "name": "stdout",
     "output_type": "stream",
     "text": [
      "Random Baseline:\n",
      "  Accuracy: 501/9136 = 5.48%\n",
      "  Avg Incorrect Guesses: 18.45\n",
      "  Avg Duplicates: 0.00\n",
      "word length of 7\n"
     ]
    },
    {
     "name": "stderr",
     "output_type": "stream",
     "text": [
      "100%|███████████████████████████████████████████████████████████████████████| 487/487 [29:10<00:00,  3.59s/it]\n"
     ]
    },
    {
     "name": "stdout",
     "output_type": "stream",
     "text": [
      "Random Baseline:\n",
      "  Accuracy: 627/7785 = 8.05%\n",
      "  Avg Incorrect Guesses: 18.65\n",
      "  Avg Duplicates: 0.00\n",
      "word length of 10\n"
     ]
    },
    {
     "name": "stderr",
     "output_type": "stream",
     "text": [
      "100%|███████████████████████████████████████████████████████████████████████| 506/506 [33:53<00:00,  4.02s/it]\n"
     ]
    },
    {
     "name": "stdout",
     "output_type": "stream",
     "text": [
      "Random Baseline:\n",
      "  Accuracy: 204/8086 = 2.52%\n",
      "  Avg Incorrect Guesses: 17.69\n",
      "  Avg Duplicates: 0.00\n",
      "word length of 9\n"
     ]
    },
    {
     "name": "stderr",
     "output_type": "stream",
     "text": [
      "100%|███████████████████████████████████████████████████████████████████████| 580/580 [43:34<00:00,  4.51s/it]\n"
     ]
    },
    {
     "name": "stdout",
     "output_type": "stream",
     "text": [
      "Random Baseline:\n",
      "  Accuracy: 318/9272 = 3.43%\n",
      "  Avg Incorrect Guesses: 18.12\n",
      "  Avg Duplicates: 0.00\n",
      "word length of 11\n"
     ]
    },
    {
     "name": "stderr",
     "output_type": "stream",
     "text": [
      "100%|███████████████████████████████████████████████████████████████████████| 428/428 [25:05<00:00,  3.52s/it]\n"
     ]
    },
    {
     "name": "stdout",
     "output_type": "stream",
     "text": [
      "Random Baseline:\n",
      "  Accuracy: 115/6836 = 1.68%\n",
      "  Avg Incorrect Guesses: 17.25\n",
      "  Avg Duplicates: 0.00\n",
      "word length of 12\n"
     ]
    },
    {
     "name": "stderr",
     "output_type": "stream",
     "text": [
      "100%|███████████████████████████████████████████████████████████████████████| 341/341 [16:14<00:00,  2.86s/it]\n"
     ]
    },
    {
     "name": "stdout",
     "output_type": "stream",
     "text": [
      "Random Baseline:\n",
      "  Accuracy: 93/5454 = 1.71%\n",
      "  Avg Incorrect Guesses: 16.77\n",
      "  Avg Duplicates: 0.00\n",
      "word length of 13\n"
     ]
    },
    {
     "name": "stderr",
     "output_type": "stream",
     "text": [
      "100%|███████████████████████████████████████████████████████████████████████| 243/243 [08:27<00:00,  2.09s/it]\n"
     ]
    },
    {
     "name": "stdout",
     "output_type": "stream",
     "text": [
      "Random Baseline:\n",
      "  Accuracy: 38/3887 = 0.98%\n",
      "  Avg Incorrect Guesses: 16.38\n",
      "  Avg Duplicates: 0.00\n",
      "word length of 15\n"
     ]
    },
    {
     "name": "stderr",
     "output_type": "stream",
     "text": [
      "100%|█████████████████████████████████████████████████████████████████████████| 98/98 [01:23<00:00,  1.17it/s]\n"
     ]
    },
    {
     "name": "stdout",
     "output_type": "stream",
     "text": [
      "Random Baseline:\n",
      "  Accuracy: 7/1564 = 0.45%\n",
      "  Avg Incorrect Guesses: 15.70\n",
      "  Avg Duplicates: 0.00\n",
      "word length of 14\n"
     ]
    },
    {
     "name": "stderr",
     "output_type": "stream",
     "text": [
      "100%|███████████████████████████████████████████████████████████████████████| 164/164 [03:50<00:00,  1.40s/it]\n"
     ]
    },
    {
     "name": "stdout",
     "output_type": "stream",
     "text": [
      "Random Baseline:\n",
      "  Accuracy: 27/2613 = 1.03%\n",
      "  Avg Incorrect Guesses: 15.98\n",
      "  Avg Duplicates: 0.00\n",
      "word length of 20\n"
     ]
    },
    {
     "name": "stderr",
     "output_type": "stream",
     "text": [
      "100%|███████████████████████████████████████████████████████████████████████████| 5/5 [00:00<00:00, 14.68it/s]\n"
     ]
    },
    {
     "name": "stdout",
     "output_type": "stream",
     "text": [
      "Random Baseline:\n",
      "  Accuracy: 0/68 = 0.00%\n",
      "  Avg Incorrect Guesses: 14.22\n",
      "  Avg Duplicates: 0.00\n",
      "word length of 17\n"
     ]
    },
    {
     "name": "stderr",
     "output_type": "stream",
     "text": [
      "100%|█████████████████████████████████████████████████████████████████████████| 34/34 [00:10<00:00,  3.27it/s]\n"
     ]
    },
    {
     "name": "stdout",
     "output_type": "stream",
     "text": [
      "Random Baseline:\n",
      "  Accuracy: 4/533 = 0.75%\n",
      "  Avg Incorrect Guesses: 15.08\n",
      "  Avg Duplicates: 0.00\n",
      "word length of 16\n"
     ]
    },
    {
     "name": "stderr",
     "output_type": "stream",
     "text": [
      "100%|█████████████████████████████████████████████████████████████████████████| 59/59 [00:31<00:00,  1.86it/s]\n"
     ]
    },
    {
     "name": "stdout",
     "output_type": "stream",
     "text": [
      "Random Baseline:\n",
      "  Accuracy: 5/943 = 0.53%\n",
      "  Avg Incorrect Guesses: 15.45\n",
      "  Avg Duplicates: 0.00\n",
      "word length of 2\n"
     ]
    },
    {
     "name": "stderr",
     "output_type": "stream",
     "text": [
      "100%|███████████████████████████████████████████████████████████████████████████| 5/5 [00:00<00:00, 12.90it/s]\n"
     ]
    },
    {
     "name": "stdout",
     "output_type": "stream",
     "text": [
      "Random Baseline:\n",
      "  Accuracy: 23/80 = 28.75%\n",
      "  Avg Incorrect Guesses: 18.34\n",
      "  Avg Duplicates: 0.00\n",
      "word length of 21\n"
     ]
    },
    {
     "name": "stderr",
     "output_type": "stream",
     "text": [
      "100%|███████████████████████████████████████████████████████████████████████████| 2/2 [00:00<00:00, 10.52it/s]\n"
     ]
    },
    {
     "name": "stdout",
     "output_type": "stream",
     "text": [
      "Random Baseline:\n",
      "  Accuracy: 0/30 = 0.00%\n",
      "  Avg Incorrect Guesses: 14.43\n",
      "  Avg Duplicates: 0.00\n",
      "word length of 18\n"
     ]
    },
    {
     "name": "stderr",
     "output_type": "stream",
     "text": [
      "100%|█████████████████████████████████████████████████████████████████████████| 17/17 [00:02<00:00,  6.20it/s]\n"
     ]
    },
    {
     "name": "stdout",
     "output_type": "stream",
     "text": [
      "Random Baseline:\n",
      "  Accuracy: 0/258 = 0.00%\n",
      "  Avg Incorrect Guesses: 14.85\n",
      "  Avg Duplicates: 0.00\n",
      "word length of 19\n"
     ]
    },
    {
     "name": "stderr",
     "output_type": "stream",
     "text": [
      "100%|███████████████████████████████████████████████████████████████████████████| 9/9 [00:00<00:00, 10.50it/s]\n"
     ]
    },
    {
     "name": "stdout",
     "output_type": "stream",
     "text": [
      "Random Baseline:\n",
      "  Accuracy: 1/133 = 0.75%\n",
      "  Avg Incorrect Guesses: 14.64\n",
      "  Avg Duplicates: 0.00\n",
      "word length of 25\n"
     ]
    },
    {
     "name": "stderr",
     "output_type": "stream",
     "text": [
      "100%|███████████████████████████████████████████████████████████████████████████| 1/1 [00:00<00:00,  7.24it/s]\n"
     ]
    },
    {
     "name": "stdout",
     "output_type": "stream",
     "text": [
      "Random Baseline:\n",
      "  Accuracy: 0/1 = 0.00%\n",
      "  Avg Incorrect Guesses: 14.00\n",
      "  Avg Duplicates: 0.00\n",
      "word length of 22\n"
     ]
    },
    {
     "name": "stderr",
     "output_type": "stream",
     "text": [
      "100%|███████████████████████████████████████████████████████████████████████████| 1/1 [00:00<00:00,  7.00it/s]\n"
     ]
    },
    {
     "name": "stdout",
     "output_type": "stream",
     "text": [
      "Random Baseline:\n",
      "  Accuracy: 0/14 = 0.00%\n",
      "  Avg Incorrect Guesses: 13.50\n",
      "  Avg Duplicates: 0.00\n",
      "word length of 1\n"
     ]
    },
    {
     "name": "stderr",
     "output_type": "stream",
     "text": [
      "100%|███████████████████████████████████████████████████████████████████████████| 1/1 [00:00<00:00,  6.89it/s]\n"
     ]
    },
    {
     "name": "stdout",
     "output_type": "stream",
     "text": [
      "Random Baseline:\n",
      "  Accuracy: 1/6 = 16.67%\n",
      "  Avg Incorrect Guesses: 21.67\n",
      "  Avg Duplicates: 0.00\n",
      "word length of 23\n"
     ]
    },
    {
     "name": "stderr",
     "output_type": "stream",
     "text": [
      "100%|███████████████████████████████████████████████████████████████████████████| 1/1 [00:00<00:00,  6.87it/s]\n"
     ]
    },
    {
     "name": "stdout",
     "output_type": "stream",
     "text": [
      "Random Baseline:\n",
      "  Accuracy: 0/5 = 0.00%\n",
      "  Avg Incorrect Guesses: 12.60\n",
      "  Avg Duplicates: 0.00\n",
      "word length of 29\n"
     ]
    },
    {
     "name": "stderr",
     "output_type": "stream",
     "text": [
      "100%|███████████████████████████████████████████████████████████████████████████| 1/1 [00:00<00:00,  6.67it/s]\n"
     ]
    },
    {
     "name": "stdout",
     "output_type": "stream",
     "text": [
      "Random Baseline:\n",
      "  Accuracy: 0/1 = 0.00%\n",
      "  Avg Incorrect Guesses: 14.00\n",
      "  Avg Duplicates: 0.00\n",
      "word length of 24\n"
     ]
    },
    {
     "name": "stderr",
     "output_type": "stream",
     "text": [
      "100%|███████████████████████████████████████████████████████████████████████████| 1/1 [00:00<00:00,  7.13it/s]\n"
     ]
    },
    {
     "name": "stdout",
     "output_type": "stream",
     "text": [
      "Random Baseline:\n",
      "  Accuracy: 0/3 = 0.00%\n",
      "  Avg Incorrect Guesses: 13.67\n",
      "  Avg Duplicates: 0.00\n",
      "word length of 28\n"
     ]
    },
    {
     "name": "stderr",
     "output_type": "stream",
     "text": [
      "100%|███████████████████████████████████████████████████████████████████████████| 1/1 [00:00<00:00,  7.56it/s]\n"
     ]
    },
    {
     "name": "stdout",
     "output_type": "stream",
     "text": [
      "Random Baseline:\n",
      "  Accuracy: 0/1 = 0.00%\n",
      "  Avg Incorrect Guesses: 13.00\n",
      "  Avg Duplicates: 0.00\n",
      "word length of 27\n"
     ]
    },
    {
     "name": "stderr",
     "output_type": "stream",
     "text": [
      "100%|███████████████████████████████████████████████████████████████████████████| 1/1 [00:00<00:00,  8.64it/s]"
     ]
    },
    {
     "name": "stdout",
     "output_type": "stream",
     "text": [
      "Random Baseline:\n",
      "  Accuracy: 0/1 = 0.00%\n",
      "  Avg Incorrect Guesses: 13.00\n",
      "  Avg Duplicates: 0.00\n",
      "3605\n"
     ]
    },
    {
     "name": "stderr",
     "output_type": "stream",
     "text": [
      "\n"
     ]
    }
   ],
   "source": [
    "from tqdm import tqdm\n",
    "\n",
    "total_wins = 0\n",
    "result_dict = dict()\n",
    "for word_length, word_list in word_dict_by_len.items():\n",
    "    print(f'word length of {word_length}')\n",
    "\n",
    "    random.shuffle(word_list)\n",
    "    split_idx = int(0.7 * len(word_list))\n",
    "#     test_dataset = HangmanDataset(word_list, max_word_length=word_length, max_guesses=26)\n",
    "    dataloader = DataLoader(\n",
    "            word_list[split_idx:],\n",
    "            batch_size=16,\n",
    "            num_workers=4,\n",
    "        )\n",
    "    incorrects_all = []\n",
    "    wins = 0\n",
    "    \n",
    "    for batch_words in tqdm(dataloader):  # Replace with your loader\n",
    "        inc, won, dups = play_frequency_informed_batch(batch_words, stoi, itos)\n",
    "        incorrects_all.extend(inc)\n",
    "        wins += sum(won)\n",
    "        \n",
    "    result_dict[word_length] = incorrects_all\n",
    "    print(f\"Random Baseline:\")\n",
    "    print(f\"  Accuracy: {wins}/{len(incorrects_all)} = {wins/len(incorrects_all):.2%}\")\n",
    "    print(f\"  Avg Incorrect Guesses: {np.mean(incorrects_all):.2f}\")\n",
    "    print(f\"  Avg Duplicates: {np.mean(dups_all):.2f}\")\n",
    "    total_wins += wins\n",
    "\n",
    "print(total_wins)"
   ]
  },
  {
   "cell_type": "code",
   "execution_count": 72,
   "id": "a88cf474",
   "metadata": {},
   "outputs": [
    {
     "data": {
      "text/plain": [
       "0.05331065626649464"
      ]
     },
     "execution_count": 72,
     "metadata": {},
     "output_type": "execute_result"
    }
   ],
   "source": [
    "3636/68204"
   ]
  },
  {
   "cell_type": "code",
   "execution_count": 94,
   "id": "c56df0db",
   "metadata": {},
   "outputs": [
    {
     "name": "stdout",
     "output_type": "stream",
     "text": [
      "3605\n"
     ]
    }
   ],
   "source": [
    "print(total_wins)\n",
    "with open(f'frequencyInformedAgentResults.pkl', 'wb') as f:\n",
    "    pickle.dump(result_dict, f)"
   ]
  },
  {
   "cell_type": "code",
   "execution_count": null,
   "id": "76659c49",
   "metadata": {},
   "outputs": [],
   "source": []
  },
  {
   "cell_type": "code",
   "execution_count": null,
   "id": "41e1039d",
   "metadata": {},
   "outputs": [],
   "source": []
  },
  {
   "cell_type": "code",
   "execution_count": null,
   "id": "60a5aef5",
   "metadata": {},
   "outputs": [],
   "source": []
  },
  {
   "cell_type": "code",
   "execution_count": 95,
   "id": "9623bf4c",
   "metadata": {},
   "outputs": [],
   "source": [
    "import pickle\n",
    "\n",
    "with open(f'/home/nximish/Friend_D/results.pkl', 'rb') as f:\n",
    "    CanineModelResult = pickle.load(f)\n",
    "\n",
    "with open(f'/home/nximish/HangmanProblem/test_results/resultscheckpoint.49th.pkl', 'rb') as f:\n",
    "    GPTAgentResult = pickle.load(f)\n",
    "    \n",
    "with open(f'randomAgentResults.pkl', 'rb') as f:\n",
    "    randomAgentResult = pickle.load(f)\n",
    "    \n",
    "with open(f'frequencyInformedAgentResults.pkl', 'rb') as f:\n",
    "    frequencyInformedAgentResult = pickle.load(f)"
   ]
  },
  {
   "cell_type": "code",
   "execution_count": 103,
   "id": "d09f7119",
   "metadata": {},
   "outputs": [
    {
     "data": {
      "image/png": "[encoded data removed]",
      "text/plain": [
       "<Figure size 640x480 with 1 Axes>"
      ]
     },
     "metadata": {},
     "output_type": "display_data"
    }
   ],
   "source": [
    "# for wordLen, inc_gues in loaded_data['incorrectGuessesDict'].items():\n",
    "from matplotlib.ticker import MultipleLocator\n",
    "import matplotlib.pyplot as plt\n",
    "\n",
    "total_test_samples = 68204\n",
    "word_lengths =  CanineModelResult.keys()\n",
    "word_lengths = sorted(word_lengths)\n",
    "\n",
    "winsList=[]\n",
    "totalList=[]\n",
    "for wordLen in word_lengths:\n",
    "    inc_gues = CanineModelResult[wordLen]\n",
    "    total_words = len(inc_gues)\n",
    "    wins = sum(1 for num in inc_gues if num < 6)\n",
    "    totalList.append(total_words)\n",
    "    winsList.append(wins)\n",
    "\n",
    "plt.plot(word_lengths, totalList, label='Total Games (Test words)')\n",
    "plt.plot(word_lengths, winsList, label='CANINE-Model')\n",
    "\n",
    "\n",
    "winsList=[]\n",
    "totalList=[]\n",
    "for wordLen in word_lengths:\n",
    "    inc_gues = GPTAgentResult['incorrectGuessesDict'][wordLen]\n",
    "    total_words = len(inc_gues)\n",
    "    wins = sum(1 for num in inc_gues if num < 6)\n",
    "    totalList.append(total_words)\n",
    "    winsList.append(wins)\n",
    "\n",
    "plt.plot(word_lengths, winsList, label='GPT-Agent')\n",
    "\n",
    "winsList=[]\n",
    "totalList=[]\n",
    "for wordLen in word_lengths:\n",
    "    inc_gues = randomAgentResult[wordLen]\n",
    "    total_words = len(inc_gues)\n",
    "    wins = sum(1 for num in inc_gues if num < 6)\n",
    "    totalList.append(total_words)\n",
    "    winsList.append(wins)\n",
    "\n",
    "plt.plot(word_lengths, winsList, label='Random-Agent')\n",
    "\n",
    "winsList=[]\n",
    "totalList=[]\n",
    "for wordLen in word_lengths:\n",
    "    inc_gues = frequencyInformedAgentResult[wordLen]\n",
    "    total_words = len(inc_gues)\n",
    "    wins = sum(1 for num in inc_gues if num < 6)\n",
    "    totalList.append(total_words)\n",
    "    winsList.append(wins)\n",
    "\n",
    "plt.plot(word_lengths, winsList, label='Frequency-Informed-Agent')\n",
    "\n",
    "\n",
    "# plt.gca().yaxis.set_major_locator(MultipleLocator(0.1))\n",
    "plt.gca().xaxis.set_major_locator(MultipleLocator(2))\n",
    "plt.grid(True)\n",
    "plt.title(f\"Win (<6 incorrect guesses) Frequency for each word length\")\n",
    "plt.xlabel(\"Word Length\")\n",
    "plt.ylabel(\"Frequency\")\n",
    "plt.legend()\n",
    "plt.show()\n"
   ]
  },
  {
   "cell_type": "code",
   "execution_count": null,
   "id": "244d3556",
   "metadata": {},
   "outputs": [],
   "source": []
  }
 ],
 "metadata": {
  "kernelspec": {
   "display_name": "Python 3 (ipykernel)",
   "language": "python",
   "name": "python3"
  },
  "language_info": {
   "codemirror_mode": {
    "name": "ipython",
    "version": 3
   },
   "file_extension": ".py",
   "mimetype": "text/x-python",
   "name": "python",
   "nbconvert_exporter": "python",
   "pygments_lexer": "ipython3",
   "version": "3.7.16"
  }
 },
 "nbformat": 4,
 "nbformat_minor": 5
}
